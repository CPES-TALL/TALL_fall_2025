{
 "cells": [
  {
   "cell_type": "markdown",
   "id": "f9ec1450-cf80-4cfa-8d3e-e46593552719",
   "metadata": {},
   "source": [
    "### Exercices\n",
    "\n",
    "*Vous ne pouvez pas utiliser la fonction `Counter` de la librairie `collections`*\n",
    "\n",
    "**1/** Créer une fonction `compte_mots` qui prend en paramètre une liste de mots et retourne les fréquences d'apparition dans un dictionnaire des mots.\n",
    "\n",
    "**2/** Créer une fonction `sauvegarde` qui prend en paramètre deux listes, écrit dans deux fichiers distincts, `mots_peu_frequents.txt` et `mots_très_frequents.txt` et ne retourne rien.\n",
    "\n",
    "**3/** Créer une fonction `main` qui prend en paramètre un chemin de fichier (au choix dans corpus/roman_choisi.txt), deux nombres N, et M (valeur par défaut=10), créé une liste de tous les mots du fichier txt, appelle la fonction `compte_mots` avec cette liste créée en argument, puis récupère le dictionnaire de sortie et crée deux listes, une première avec les N mots les plus fréquents, une seconde avec les M les moins fréquents. Enfin elle appelle la fonction `sauvegarde` et retourne les deux listes\n",
    "\n"
   ]
  },
  {
   "cell_type": "code",
   "execution_count": 3,
   "id": "9c17bfe9-b5e2-46ae-a27c-b037528c3b9e",
   "metadata": {},
   "outputs": [],
   "source": [
    "liste_de_mots = [\"je\", \"suis\", \"une\", \"liste\", \"liste\", \"de\", \"mots\"]"
   ]
  },
  {
   "cell_type": "code",
   "execution_count": 6,
   "id": "d0084ba2-676d-4298-9914-04a230ee834f",
   "metadata": {},
   "outputs": [],
   "source": [
    "def compte_mots(liste_mots):\n",
    "    dico_A = {}\n",
    "    for mot in liste_mots:\n",
    "        if mot not in dico_A:\n",
    "            dico_A[mot] = 0\n",
    "        dico_A[mot] += 1\n",
    "    return dico_A"
   ]
  },
  {
   "cell_type": "code",
   "execution_count": 7,
   "id": "d7b73497-6146-41b6-8e4c-e0ab0d6144a2",
   "metadata": {},
   "outputs": [
    {
     "data": {
      "text/plain": [
       "{'je': 1, 'suis': 1, 'une': 1, 'liste': 2, 'de': 1, 'mots': 1}"
      ]
     },
     "execution_count": 7,
     "metadata": {},
     "output_type": "execute_result"
    }
   ],
   "source": [
    "compte_mots(liste_de_mots)"
   ]
  },
  {
   "cell_type": "code",
   "execution_count": null,
   "id": "f6e45ed1-a929-4432-90a8-52f2c6b9ebed",
   "metadata": {},
   "outputs": [],
   "source": []
  },
  {
   "cell_type": "code",
   "execution_count": 1,
   "id": "9c003ca4-0427-4e31-b40b-139e51910539",
   "metadata": {},
   "outputs": [],
   "source": [
    "def sauvegarde(roman, liste_peu_freq, liste_tres_freq):\n",
    "    with open(\"mots_peu_frequents\"+_roman+\".txt\", \"w\") as fpf:\n",
    "        fpf.write(\"\\n\".join(liste_peu_freq))\n",
    "\n",
    "    with open(\"mots_tres_frequents\"+_roman+\".txt\", \"w\") as ftf:\n",
    "        ftf.write(\" \".join(liste_tres_freq))"
   ]
  },
  {
   "cell_type": "code",
   "execution_count": 15,
   "id": "6474a18b-b622-44cd-9e33-2065fe9bc4be",
   "metadata": {},
   "outputs": [],
   "source": [
    "sauvegarde(liste_de_mots, liste_de_mots)"
   ]
  },
  {
   "cell_type": "code",
   "execution_count": null,
   "id": "1da56e9b-e466-4672-a420-6282e86e5b9b",
   "metadata": {},
   "outputs": [],
   "source": []
  },
  {
   "cell_type": "code",
   "execution_count": 16,
   "id": "9bf0b1e6-d80e-45b9-9fbc-ad274f956438",
   "metadata": {},
   "outputs": [],
   "source": [
    "from glob import glob"
   ]
  },
  {
   "cell_type": "code",
   "execution_count": 19,
   "id": "2c83e1ea-a123-4026-a1d5-a88fc065be22",
   "metadata": {},
   "outputs": [],
   "source": [
    "chemin_fichiers = \"corpus/*.txt\""
   ]
  },
  {
   "cell_type": "code",
   "execution_count": 87,
   "id": "8d64a379-0d4b-4c6c-b202-3b71e9beb6a5",
   "metadata": {},
   "outputs": [],
   "source": [
    "def main(path, N, M):\n",
    "    fichiers = glob(path)\n",
    "    for roman in fichiers:\n",
    "        with open(roman, \"r\") as f:\n",
    "            liste_de_mots_courante = f.read().split()\n",
    "        dico_roman_courant = compte_mots(liste_de_mots_courante)\n",
    "        liste_triee = sorted(dico_roman_courant.items(), key=lambda x: x[1], reverse=True)\n",
    "        liste_tres_frequente = [elem[0] for elem in liste_triee[:N]]\n",
    "        liste_peu_frequente = [elem[0] for elem in liste_triee[-M:]]\n",
    "        sauvegarde(roman, liste_peu_frequente, liste_tres_frequente)\n",
    "        print(\"sauvegarde fichier \"+ roman)\n",
    "    print(\"fonction main finie !\")"
   ]
  },
  {
   "cell_type": "code",
   "execution_count": 88,
   "id": "3a9ad09e-8a96-4391-9000-2a6acf5dc946",
   "metadata": {
    "scrolled": true
   },
   "outputs": [
    {
     "name": "stdout",
     "output_type": "stream",
     "text": [
      "sauvegarde fichier corpus/1902_Loti-Pierre_Les-derniers-jours-de-Pekin.txt\n",
      "sauvegarde fichier corpus/1912_Loti-Pierre_Un-pelerin-d-Angkor 2.txt_mots_peu_frequents.txt\n",
      "sauvegarde fichier corpus/1906_Gide-Andre_Amyntas.txt\n",
      "sauvegarde fichier corpus/1933_Veuzit-Max-du_Vers-l'unique.txt\n",
      "sauvegarde fichier corpus/1904_Le-Rouge-Gustave_L-Esclave-amoureuse.txt_mots_tres_frequents.txt\n",
      "sauvegarde fichier corpus/1938_Larbaud-Valery_Aux-couleurs-de-Rome.txt\n",
      "sauvegarde fichier corpus/1905_Farrere-Claude_Les-civilises.txt\n",
      "sauvegarde fichier corpus/1903_Loti-Pierre_L-Inde-(sans-les-Anglais).txt_mots_peu_frequents.txt\n",
      "sauvegarde fichier corpus/1905_Verne-Jules_L-invasion-de-la-mer.txt_mots_peu_frequents.txt\n",
      "sauvegarde fichier corpus/1905_Le-Rouge-Gustave_L-Espionne-du-grand-Lama.txt_mots_peu_frequents.txt\n",
      "sauvegarde fichier corpus/1916_Delly_La-fin-d'une-Walkyrie.txt_mots_peu_frequents.txt\n",
      "sauvegarde fichier corpus/1955_Delly_Ourida.txt\n",
      "sauvegarde fichier corpus/1903_Vogue-Eugene-Melchior-de_Le-Maitre-de-la-mer.txt_mots_tres_frequents.txt\n",
      "sauvegarde fichier corpus/2012_Kerangal-Maylis-de_Tangente-vers-l-est.txt_mots_peu_frequents.txt\n",
      "sauvegarde fichier corpus/1938_Larbaud-Valery_Aux-couleurs-de-Rome.txt_mots_tres_frequents.txt\n",
      "sauvegarde fichier corpus/1905_Verne-Jules_Le-Phare-du-Bout-du-Monde.txt_mots_peu_frequents.txt\n",
      "sauvegarde fichier corpus/1904_Le-Rouge-Gustave_L-Esclave-amoureuse.txt\n",
      "sauvegarde fichier corpus/1913_Dombre-Roger_Un-tuteur-embarrasse.txt_mots_peu_frequents.txt\n",
      "sauvegarde fichier corpus/2008_Rolin-Olivier_La-Chambre-des-cartes.txt_mots_tres_frequents.txt\n",
      "sauvegarde fichier corpus/1913_Delly_Entre-deux-ames.txt\n",
      "sauvegarde fichier corpus/1913_Dombre-Roger_Un-tuteur-embarrasse.txt_mots_tres_frequents.txt\n",
      "sauvegarde fichier corpus/1931_Veuzit-Max-du_John,-chauffeur-russe.txt_mots_peu_frequents.txt\n",
      "sauvegarde fichier corpus/1905_Farrere-Claude_Les-civilises.txt_mots_peu_frequents.txt\n",
      "sauvegarde fichier corpus/1905_Verne-Jules_Le-Phare-du-Bout-du-Monde.txt_mots_tres_frequents.txt\n",
      "sauvegarde fichier corpus/1932_Veuzit-Max-du_Petite-comtesse.txt_mots_peu_frequents.txt\n",
      "sauvegarde fichier corpus/1903_Vogue-Eugene-Melchior-de_Le-Maitre-de-la-mer.txt_mots_peu_frequents.txt\n",
      "sauvegarde fichier corpus/1905_Farrere-Claude_Les-civilises.txt_mots_tres_frequents.txt\n",
      "sauvegarde fichier corpus/2013_Tesson-Sylvain_Dans-les-forets-de-Siberie.txt_mots_tres_frequents.txt\n",
      "sauvegarde fichier corpus/1912_Loti-Pierre_Un-pelerin-d-Angkor 2.txt\n",
      "sauvegarde fichier corpus/1908_Veuzit-Max-du_Le-mystere-de-Malbackt.txt\n",
      "sauvegarde fichier corpus/1933_Veuzit-Max-du_Vers-l'unique.txt_mots_peu_frequents.txt\n",
      "sauvegarde fichier corpus/2008_Rolin-Olivier_La-Chambre-des-cartes.txt\n",
      "sauvegarde fichier corpus/1913_Delly_Dans-l'ombre-du-mystere.txt\n",
      "sauvegarde fichier corpus/1900_Verne-Jules-_Seconde-patrie.txt_mots_peu_frequents.txt\n",
      "sauvegarde fichier corpus/1904_Loti-Pierre_Vers-Ispahan.txt_mots_peu_frequents.txt\n",
      "sauvegarde fichier corpus/1902_Loti-Pierre_Les-derniers-jours-de-Pekin.txt_mots_tres_frequents.txt\n",
      "sauvegarde fichier corpus/1913_Delly_Entre-deux-ames.txt_mots_tres_frequents.txt\n",
      "sauvegarde fichier corpus/1901_Thurner-Georges_Mademoiselle-Flammette.txt_mots_peu_frequents.txt\n",
      "sauvegarde fichier corpus/1913_Dombre-Roger_Un-tuteur-embarrasse.txt\n",
      "sauvegarde fichier corpus/1917_Delly_La-petite-chanoinesse.txt_mots_peu_frequents.txt\n",
      "sauvegarde fichier corpus/1903_Loti-Pierre_L-Inde-(sans-les-Anglais).txt_mots_tres_frequents.txt\n",
      "sauvegarde fichier corpus/1955_Delly_Ourida.txt_mots_tres_frequents.txt\n",
      "sauvegarde fichier corpus/1903_Vogue-Eugene-Melchior-de_Le-Maitre-de-la-mer.txt\n",
      "sauvegarde fichier corpus/1902_Allais-Alphonse_Le-Captain-Cap.txt_mots_tres_frequents.txt\n",
      "sauvegarde fichier corpus/1922_Alanic-Mathilde_La-route-ardente.txt_mots_peu_frequents.txt\n",
      "sauvegarde fichier corpus/1902_Le-Rouge-Gustave_La-Princesse-des-airs_Tome-II.txt\n",
      "sauvegarde fichier corpus/1902_Le-Rouge-Gustave_La-Princesse-des-airs_Tome-II.txt_mots_tres_frequents.txt\n",
      "sauvegarde fichier corpus/1931_Veuzit-Max-du_John,-chauffeur-russe.txt_mots_tres_frequents.txt\n",
      "sauvegarde fichier corpus/1933_Veuzit-Max-du_Vers-l'unique.txt_mots_tres_frequents.txt\n",
      "sauvegarde fichier corpus/1913_Delly_Dans-l'ombre-du-mystere.txt_mots_peu_frequents.txt\n",
      "sauvegarde fichier corpus/1916_Ardel-Henri_Le-chemin-qui-descend.txt_mots_tres_frequents.txt\n",
      "sauvegarde fichier corpus/1902_Allais-Alphonse_Le-Captain-Cap.txt_mots_peu_frequents.txt\n",
      "sauvegarde fichier corpus/1905_Lermina-Jules_To-Ho-Le-Tueur-d-or.txt\n",
      "sauvegarde fichier corpus/1904_Le-Rouge-Gustave_L-Esclave-amoureuse.txt_mots_peu_frequents.txt\n",
      "sauvegarde fichier corpus/1938_Larbaud-Valery_Aux-couleurs-de-Rome.txt_mots_peu_frequents.txt\n",
      "sauvegarde fichier corpus/1905_Le-Rouge-Gustave_L-Espionne-du-grand-Lama.txt\n",
      "sauvegarde fichier corpus/1908_Veuzit-Max-du_Le-mystere-de-Malbackt.txt_mots_peu_frequents.txt\n",
      "sauvegarde fichier corpus/1912_Loti-Pierre_Un-pelerin-d-Angkor.txt_mots_peu_frequents.txt\n",
      "sauvegarde fichier corpus/1917_Delly_La-petite-chanoinesse.txt_mots_tres_frequents.txt\n",
      "sauvegarde fichier corpus/1912_Loti-Pierre_Un-pelerin-d-Angkor.txt\n",
      "sauvegarde fichier corpus/1906_Gide-Andre_Amyntas.txt_mots_peu_frequents.txt\n",
      "sauvegarde fichier corpus/1902_Loti-Pierre_Les-derniers-jours-de-Pekin.txt_mots_peu_frequents.txt\n",
      "sauvegarde fichier corpus/1905_Lermina-Jules_To-Ho-Le-Tueur-d-or.txt_mots_tres_frequents.txt\n",
      "sauvegarde fichier corpus/1916_Delly_La-fin-d'une-Walkyrie.txt_mots_tres_frequents.txt\n",
      "sauvegarde fichier corpus/1916_Ardel-Henri_Le-chemin-qui-descend.txt_mots_peu_frequents.txt\n",
      "sauvegarde fichier corpus/1932_Veuzit-Max-du_Petite-comtesse.txt\n",
      "sauvegarde fichier corpus/1905_Lermina-Jules_To-Ho-Le-Tueur-d-or.txt_mots_peu_frequents.txt\n",
      "sauvegarde fichier corpus/1932_Veuzit-Max-du_Petite-comtesse.txt_mots_tres_frequents.txt\n",
      "sauvegarde fichier corpus/1912_Loti-Pierre_Un-pelerin-d-Angkor 2.txt_mots_tres_frequents.txt\n",
      "sauvegarde fichier corpus/1902_Le-Rouge-Gustave_La-Princesse-des-airs_Tome-II.txt_mots_peu_frequents.txt\n",
      "sauvegarde fichier corpus/1905_Verne-Jules_L-invasion-de-la-mer.txt_mots_tres_frequents.txt\n",
      "sauvegarde fichier corpus/1900_Verne-Jules-_Seconde-patrie.txt\n",
      "sauvegarde fichier corpus/1905_Verne-Jules_Le-Phare-du-Bout-du-Monde.txt\n",
      "sauvegarde fichier corpus/1922_Alanic-Mathilde_La-route-ardente.txt_mots_tres_frequents.txt\n",
      "sauvegarde fichier corpus/1900_Verne-Jules-_Seconde-patrie.txt_mots_tres_frequents.txt\n",
      "sauvegarde fichier corpus/1931_Veuzit-Max-du_John,-chauffeur-russe.txt\n",
      "sauvegarde fichier corpus/1963_Bouvier-Nicolas_L-usage-du-monde.txt\n",
      "sauvegarde fichier corpus/1913_Delly_Dans-l'ombre-du-mystere.txt_mots_tres_frequents.txt\n",
      "sauvegarde fichier corpus/1916_Delly_La-fin-d'une-Walkyrie.txt\n",
      "sauvegarde fichier corpus/1911_Gautier-Judith_En-chine-Merveilleuses-histoires.txt_mots_peu_frequents.txt\n",
      "sauvegarde fichier corpus/1955_Delly_Ourida.txt_mots_peu_frequents.txt\n",
      "sauvegarde fichier corpus/1902_Le-Rouge-Gustave_La-Princesse-des-airs_Tome-I.txt\n",
      "sauvegarde fichier corpus/1905_Verne-Jules_L-invasion-de-la-mer.txt\n",
      "sauvegarde fichier corpus/1908_Delly_L'exilee.txt_mots_peu_frequents.txt\n",
      "sauvegarde fichier corpus/1963_Bouvier-Nicolas_L-usage-du-monde.txt_mots_tres_frequents.txt\n",
      "sauvegarde fichier corpus/1905_Le-Rouge-Gustave_L-Espionne-du-grand-Lama.txt_mots_tres_frequents.txt\n",
      "sauvegarde fichier corpus/2012_Kerangal-Maylis-de_Tangente-vers-l-est.txt\n",
      "sauvegarde fichier corpus/1913_Delly_Entre-deux-ames.txt_mots_peu_frequents.txt\n",
      "sauvegarde fichier corpus/1902_Le-Rouge-Gustave_La-Princesse-des-airs_Tome-I.txt_mots_tres_frequents.txt\n",
      "sauvegarde fichier corpus/1901_Thurner-Georges_Mademoiselle-Flammette.txt\n",
      "sauvegarde fichier corpus/2008_Rolin-Olivier_La-Chambre-des-cartes.txt_mots_peu_frequents.txt\n",
      "sauvegarde fichier corpus/1903_Loti-Pierre_L-Inde-(sans-les-Anglais).txt\n",
      "sauvegarde fichier corpus/1904_Loti-Pierre_Vers-Ispahan.txt\n",
      "sauvegarde fichier corpus/1908_Delly_L'exilee.txt\n",
      "sauvegarde fichier corpus/1908_Delly_L'exilee.txt_mots_tres_frequents.txt\n",
      "sauvegarde fichier corpus/1902_Le-Rouge-Gustave_La-Princesse-des-airs_Tome-I.txt_mots_peu_frequents.txt\n",
      "sauvegarde fichier corpus/1912_Loti-Pierre_Un-pelerin-d-Angkor.txt_mots_tres_frequents.txt\n",
      "sauvegarde fichier corpus/2013_Tesson-Sylvain_Dans-les-forets-de-Siberie.txt_mots_peu_frequents.txt\n",
      "sauvegarde fichier corpus/1911_Gautier-Judith_En-chine-Merveilleuses-histoires.txt\n",
      "sauvegarde fichier corpus/1911_Gautier-Judith_En-chine-Merveilleuses-histoires.txt_mots_tres_frequents.txt\n",
      "sauvegarde fichier corpus/1908_Veuzit-Max-du_Le-mystere-de-Malbackt.txt_mots_tres_frequents.txt\n",
      "sauvegarde fichier corpus/1906_Gide-Andre_Amyntas.txt_mots_tres_frequents.txt\n",
      "sauvegarde fichier corpus/1902_Allais-Alphonse_Le-Captain-Cap.txt\n",
      "sauvegarde fichier corpus/2013_Tesson-Sylvain_Dans-les-forets-de-Siberie.txt\n",
      "sauvegarde fichier corpus/1916_Ardel-Henri_Le-chemin-qui-descend.txt\n",
      "sauvegarde fichier corpus/1963_Bouvier-Nicolas_L-usage-du-monde.txt_mots_peu_frequents.txt\n",
      "sauvegarde fichier corpus/1901_Thurner-Georges_Mademoiselle-Flammette.txt_mots_tres_frequents.txt\n",
      "sauvegarde fichier corpus/1917_Delly_La-petite-chanoinesse.txt\n",
      "sauvegarde fichier corpus/1904_Loti-Pierre_Vers-Ispahan.txt_mots_tres_frequents.txt\n",
      "sauvegarde fichier corpus/1922_Alanic-Mathilde_La-route-ardente.txt\n",
      "sauvegarde fichier corpus/2012_Kerangal-Maylis-de_Tangente-vers-l-est.txt_mots_tres_frequents.txt\n",
      "fonction main finie !\n"
     ]
    }
   ],
   "source": [
    "main(chemin_fichiers, 10, 10)"
   ]
  },
  {
   "cell_type": "code",
   "execution_count": null,
   "id": "6b4ddef3-6cb1-43bc-aa9d-325eba4d9b8c",
   "metadata": {},
   "outputs": [],
   "source": []
  },
  {
   "cell_type": "code",
   "execution_count": null,
   "id": "c0501830-c37c-4663-9d02-b11844c904c0",
   "metadata": {},
   "outputs": [],
   "source": []
  },
  {
   "cell_type": "code",
   "execution_count": null,
   "id": "3b0a906d-f40d-42dd-82b4-1c2b02a42f5f",
   "metadata": {},
   "outputs": [],
   "source": []
  },
  {
   "cell_type": "code",
   "execution_count": 18,
   "id": "761aa39a-eb02-49f5-b567-ba5e8b6bddbf",
   "metadata": {},
   "outputs": [],
   "source": [
    "path_txt = \"/home/crazyjeannot/Documents/cours/2025/TALL_CPES_25-26/TALL_fall_2025/seance_01/TD/corpus/*.txt\""
   ]
  },
  {
   "cell_type": "code",
   "execution_count": 21,
   "id": "7e468728-1920-46ba-8647-5bd12aff6917",
   "metadata": {},
   "outputs": [],
   "source": [
    "path_txt = \"corpus/*.txt\""
   ]
  },
  {
   "cell_type": "code",
   "execution_count": 22,
   "id": "72aeb4de-de40-4e94-ad6d-12ffe1f7edcc",
   "metadata": {},
   "outputs": [],
   "source": [
    "fichiers = glob(path_txt)"
   ]
  },
  {
   "cell_type": "code",
   "execution_count": 23,
   "id": "a4f476c5-e860-4702-9179-d303176f2b14",
   "metadata": {},
   "outputs": [
    {
     "data": {
      "text/plain": [
       "['corpus/1902_Loti-Pierre_Les-derniers-jours-de-Pekin.txt',\n",
       " 'corpus/1906_Gide-Andre_Amyntas.txt',\n",
       " \"corpus/1933_Veuzit-Max-du_Vers-l'unique.txt\",\n",
       " 'corpus/1938_Larbaud-Valery_Aux-couleurs-de-Rome.txt',\n",
       " 'corpus/1905_Farrere-Claude_Les-civilises.txt',\n",
       " 'corpus/1955_Delly_Ourida.txt',\n",
       " 'corpus/1904_Le-Rouge-Gustave_L-Esclave-amoureuse.txt',\n",
       " 'corpus/1913_Delly_Entre-deux-ames.txt',\n",
       " 'corpus/1912_Loti-Pierre_Un-pelerin-d-Angkor 2.txt',\n",
       " 'corpus/1908_Veuzit-Max-du_Le-mystere-de-Malbackt.txt',\n",
       " 'corpus/2008_Rolin-Olivier_La-Chambre-des-cartes.txt',\n",
       " \"corpus/1913_Delly_Dans-l'ombre-du-mystere.txt\",\n",
       " 'corpus/1913_Dombre-Roger_Un-tuteur-embarrasse.txt',\n",
       " 'corpus/1903_Vogue-Eugene-Melchior-de_Le-Maitre-de-la-mer.txt',\n",
       " 'corpus/1902_Le-Rouge-Gustave_La-Princesse-des-airs_Tome-II.txt',\n",
       " 'corpus/1905_Lermina-Jules_To-Ho-Le-Tueur-d-or.txt',\n",
       " 'corpus/1905_Le-Rouge-Gustave_L-Espionne-du-grand-Lama.txt',\n",
       " 'corpus/1912_Loti-Pierre_Un-pelerin-d-Angkor.txt',\n",
       " 'corpus/1932_Veuzit-Max-du_Petite-comtesse.txt',\n",
       " 'corpus/1900_Verne-Jules-_Seconde-patrie.txt',\n",
       " 'corpus/1905_Verne-Jules_Le-Phare-du-Bout-du-Monde.txt',\n",
       " 'corpus/1931_Veuzit-Max-du_John,-chauffeur-russe.txt',\n",
       " 'corpus/1963_Bouvier-Nicolas_L-usage-du-monde.txt',\n",
       " \"corpus/1916_Delly_La-fin-d'une-Walkyrie.txt\",\n",
       " 'corpus/1902_Le-Rouge-Gustave_La-Princesse-des-airs_Tome-I.txt',\n",
       " 'corpus/1905_Verne-Jules_L-invasion-de-la-mer.txt',\n",
       " 'corpus/2012_Kerangal-Maylis-de_Tangente-vers-l-est.txt',\n",
       " 'corpus/1901_Thurner-Georges_Mademoiselle-Flammette.txt',\n",
       " 'corpus/1903_Loti-Pierre_L-Inde-(sans-les-Anglais).txt',\n",
       " 'corpus/1904_Loti-Pierre_Vers-Ispahan.txt',\n",
       " \"corpus/1908_Delly_L'exilee.txt\",\n",
       " 'corpus/1911_Gautier-Judith_En-chine-Merveilleuses-histoires.txt',\n",
       " 'corpus/1902_Allais-Alphonse_Le-Captain-Cap.txt',\n",
       " 'corpus/2013_Tesson-Sylvain_Dans-les-forets-de-Siberie.txt',\n",
       " 'corpus/1916_Ardel-Henri_Le-chemin-qui-descend.txt',\n",
       " 'corpus/1917_Delly_La-petite-chanoinesse.txt',\n",
       " 'corpus/1922_Alanic-Mathilde_La-route-ardente.txt']"
      ]
     },
     "execution_count": 23,
     "metadata": {},
     "output_type": "execute_result"
    }
   ],
   "source": [
    "fichiers"
   ]
  },
  {
   "cell_type": "code",
   "execution_count": null,
   "id": "cd0970c3-0637-4126-a4f0-5876f6bf8784",
   "metadata": {},
   "outputs": [],
   "source": []
  }
 ],
 "metadata": {
  "kernelspec": {
   "display_name": "Python (.dev_TALL)",
   "language": "python",
   "name": ".dev_tall"
  },
  "language_info": {
   "codemirror_mode": {
    "name": "ipython",
    "version": 3
   },
   "file_extension": ".py",
   "mimetype": "text/x-python",
   "name": "python",
   "nbconvert_exporter": "python",
   "pygments_lexer": "ipython3",
   "version": "3.12.3"
  }
 },
 "nbformat": 4,
 "nbformat_minor": 5
}
