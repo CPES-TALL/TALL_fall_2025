{
 "cells": [
  {
   "cell_type": "markdown",
   "id": "0cb47ba6",
   "metadata": {},
   "source": [
    "# Analyse Textuelle\n",
    "\n",
    "## Introduction\n",
    "\n",
    "### Explorer les textes à l'aide du modèle d'espace vectoriel\n",
    "\n",
    "Ce notebook explore la possibilité d'appliquer un raisonnement spatial aux données textuelles, en se demandant si l'on peut considérer les textes comme de simples points dans un espace, ayant des coordonnées exactes permettant de calculer la distance qui les sépare. L'idée est d'utiliser un modèle de vecteurs pour représenter les caractéristiques individuelles des textes, les transformant ainsi en nombres concrets nécessaires au traitement ultérieur. \n",
    "\n",
    "La première partie de ce notebook se concentre sur les étapes de prétraitement des données et la conversion d'un corpus en une représentation sac de mots. La deuxième partie présente une étude de cas sur les textes romanesques, utilisant le modèle de vecteurs et explorant les différences entre les sous-genres.\n",
    "\n",
    "```\n",
    "Exemple de représentation dans un espace vectoriel avec quatre documents (lignes) et un vocabulaire de quatre mots (colonnes). Pour chaque document, le tableau répertorie la fréquence de chaque élément du vocabulaire.\n",
    "\n",
    "|          | _roi_ | _ange_ | _sang_ | _perdu_ |\n",
    "|----------|-------|--------|--------|---------|\n",
    "| $text_1$ |     1 |      2 |     16 |      21 |\n",
    "| $text_2$ |     2 |      2 |     18 |      19 |\n",
    "| $text_3$ |    35 |     41 |      0 |       2 |\n",
    "| $text_4$ |    39 |     55 |      1 |       0 |\n",
    "```\n",
    "\n",
    "Dans ce tableau, chaque document $text_i$ est représenté sous forme de vecteur, qui est essentiellement une liste de nombres - les fréquences des mots dans notre cas présent. Un <span class=\"index\">espace vectoriel</span> n'est rien de plus qu'une collection de vecteurs numériques, pouvant par exemple être additionnés et multipliés par un nombre. Les documents représentés de cette manière peuvent être comparés en termes de leurs *coordonnées* (ou *composantes*). Par exemple, en comparant les quatre documents sur la base de la deuxième coordonnée, nous observons que les deux premiers documents ($text_1$ et $text_2$) ont des comptes similaires, ce qui pourrait indiquer une certaine similarité entre ces deux documents. Pour obtenir une image plus précise et complète de la similarité des documents, nous aimerions pouvoir les comparer de manière plus holistique, en utilisant *toutes* leurs composantes. Dans notre exemple, chaque document représente un point dans un espace vectoriel à quatre dimensions. Nous pourrions hypothétiser que des documents similaires utilisent des mots similaires et résident donc à proximité les uns des autres dans cet espace. Pour illustrer cela, nous montrons comment visualiser les documents dans l'espace en utilisant les première et troisième composantes.```"
   ]
  },
  {
   "cell_type": "code",
   "execution_count": 1,
   "id": "8b153241-28a2-4ebc-93b1-6bd3d9fb6446",
   "metadata": {},
   "outputs": [
    {
     "data": {
      "image/png": "[encoded data removed]",
      "text/plain": [
       "<Figure size 640x480 with 1 Axes>"
      ]
     },
     "metadata": {},
     "output_type": "display_data"
    }
   ],
   "source": [
    "import numpy as np\n",
    "import matplotlib.pyplot as plt\n",
    "\n",
    "document_term_matrix = np.array([[1, 16], [2, 18], [35, 0], [39, 1]])\n",
    "labels = '$text_1$', '$text_2$', '$text_3$', '$text_4$'\n",
    "fig, ax = plt.subplots()\n",
    "plt.quiver([0, 0, 0, 0], [0, 0, 0, 0],\n",
    "           document_term_matrix[:, 0], document_term_matrix[:, 1],\n",
    "           color=[\"C0\", \"C1\", \"C2\", \"C3\"], angles='xy', scale_units='xy', scale=1)\n",
    "for i, label in enumerate(labels):\n",
    "    plt.annotate(label, xy=document_term_matrix[i], fontsize=15)\n",
    "plt.ylim(-1, 20); plt.xlim(-1, 44)\n",
    "plt.xlabel(\"Dimension 1\")\n",
    "plt.ylabel(\"Dimension 3\");"
   ]
  },
  {
   "cell_type": "markdown",
   "id": "5647851e-aa32-42d8-ac3c-af7f031150c2",
   "metadata": {},
   "source": [
    "Démonstration de quatre documents (représentés sous forme de vecteurs) résidant dans un espace bidimensionnel."
   ]
  },
  {
   "cell_type": "markdown",
   "id": "aa1eb7c3",
   "metadata": {},
   "source": [
    "Ayant une compréhension théorique de base du modèle d'espace vectoriel, passons à la partie pratique de la mise en œuvre d'une procédure pour construire une <span class=\"index\">matrice terme-document</span> à partir de texte brut. En essence, cela implique trois étapes: Déterminer le vocabulaire de ducorpus, en filtrant éventuellement les mots outils et la pionctuation. La deuxième étape consiste à compter combien de fois chaque élément du vocabulaire apparaît dans chaque document individuel. La troisième et dernière étape prend les sacs de mots de la deuxième étape et construit une matrice terme-document.\n",
    "\n",
    "![steps bow](./data/bow.png)"
   ]
  },
  {
   "cell_type": "markdown",
   "id": "9597f1dd-8dbf-4995-b87d-c25b33c55601",
   "metadata": {},
   "source": [
    "### Prétraitement du texte\n",
    "\n",
    "Une façon courante de représenter des documents textuels est d'utiliser des chaînes de caractères (associées au type `str` de Python). Considérons le bloc de code suivant, qui représente les dix mini-documents de la figure ci-dessus sous forme d'une liste de chaînes de caractères."
   ]
  },
  {
   "cell_type": "code",
   "execution_count": 3,
   "id": "c1356ee7",
   "metadata": {},
   "outputs": [],
   "source": [
    "corpus = [\"Cette histoire n’est pas fantastique, elle n’est que romanesque.\",\n",
    "          \"L’étrange voyage ! Il avait si bien commencé cependant ! Pour ma part, je n’en fis jamais qui s’annonçât sous de plus heureux auspices.\",\n",
    "          \"Le vieux baron des Ravots avait été pendant quarante ans le roi des chasseurs de sa province.\",\n",
    "          \"La petite ville de Verrières peut passer pour l’une des plus jolies de la Franche-Comté.\",\n",
    "          \"Sédentaire par devoir, tu crois, mon cher François, qu’emporté par le fier et capricieux dada de l’indépendance, je n’ai pas connu de plus ardent plaisir en ce monde que celui de traverser mers et montagnes, lacs et vallées.\",\n",
    "          \"Que votre nom, vous dont le portrait est le plus bel ornement de cet ouvrage, soit ici comme une branche de buis bénit, prise on ne sait à quel arbre, mais certainement sanctifiée par la religion et renouvelée, toujours verte, par des mains pieuses, pour protéger la maison.\",\n",
    "          '– Et pourquoi cesserais-je d’être de mon village ? Il n’y faut pas compter. Te voilà bien fière, mon pauvre Minet-Chéri, parce que tu habites Paris depuis ton mariage.']"
   ]
  },
  {
   "cell_type": "code",
   "execution_count": 5,
   "id": "5f939dbf-4ec8-4c49-b08a-f09d0bf9f321",
   "metadata": {},
   "outputs": [
    {
     "data": {
      "text/plain": [
       "['Cette',\n",
       " 'histoire',\n",
       " 'n’est',\n",
       " 'pas',\n",
       " 'fantastique,',\n",
       " 'elle',\n",
       " 'n’est',\n",
       " 'que',\n",
       " 'romanesque.']"
      ]
     },
     "execution_count": 5,
     "metadata": {},
     "output_type": "execute_result"
    }
   ],
   "source": [
    "corpus[0].split()"
   ]
  },
  {
   "cell_type": "code",
   "execution_count": null,
   "id": "7a8941c0-a514-4575-95a8-7a61d93ffdef",
   "metadata": {},
   "outputs": [],
   "source": []
  },
  {
   "cell_type": "markdown",
   "id": "539c2de9",
   "metadata": {},
   "source": [
    "Afin de construire une représentation *sac de mots* de chaque \"texte\" dans ce corpus, nous devons d'abord traiter les chaînes de caractères en mots distincts. Ce processus est appelé *tokenization* ou *segmentation de mots*. Un tokenizer naïf pourrait diviser les documents le long des espaces (contigus). En Python, un tel tokenizer peut être implémenté de manière simple en utilisant la méthode de chaîne `split()`. Comme le montre le bloc de code suivant, cette méthode utilise une stratégie de tokenization dans laquelle les tokens sont séparés par une ou plusieurs occurrences d'espaces (par exemple, des espaces, des tabulations, des sauts de ligne) :"
   ]
  },
  {
   "cell_type": "code",
   "execution_count": 6,
   "id": "498f0d10",
   "metadata": {},
   "outputs": [],
   "source": [
    "document = corpus[6]\n",
    "tokens = document.split()"
   ]
  },
  {
   "cell_type": "code",
   "execution_count": 7,
   "id": "fcd9c087-dd37-4e96-bba7-47c87ddb8500",
   "metadata": {},
   "outputs": [
    {
     "data": {
      "text/plain": [
       "['–',\n",
       " 'Et',\n",
       " 'pourquoi',\n",
       " 'cesserais-je',\n",
       " 'd’être',\n",
       " 'de',\n",
       " 'mon',\n",
       " 'village',\n",
       " '?',\n",
       " 'Il',\n",
       " 'n’y',\n",
       " 'faut',\n",
       " 'pas',\n",
       " 'compter.',\n",
       " 'Te',\n",
       " 'voilà',\n",
       " 'bien',\n",
       " 'fière,',\n",
       " 'mon',\n",
       " 'pauvre',\n",
       " 'Minet-Chéri,',\n",
       " 'parce',\n",
       " 'que',\n",
       " 'tu',\n",
       " 'habites',\n",
       " 'Paris',\n",
       " 'depuis',\n",
       " 'ton',\n",
       " 'mariage.']"
      ]
     },
     "execution_count": 7,
     "metadata": {},
     "output_type": "execute_result"
    }
   ],
   "source": [
    "tokens"
   ]
  },
  {
   "cell_type": "code",
   "execution_count": null,
   "id": "7735bd9f-2a18-4949-970b-176412719aca",
   "metadata": {},
   "outputs": [],
   "source": []
  },
  {
   "cell_type": "markdown",
   "id": "8a55157a",
   "metadata": {},
   "source": [
    "### Créer une matrice terme-document:"
   ]
  },
  {
   "cell_type": "code",
   "execution_count": 11,
   "id": "9504401a-ecec-405f-b777-3c9ab569e95b",
   "metadata": {},
   "outputs": [],
   "source": [
    "liste = ['liste', 'de', 'mots', 'longs', 'et', 'moinslongue', 10, 16, 'hgdzhgdhzgdzhgdzhdghz', 'de', 'mots']"
   ]
  },
  {
   "cell_type": "code",
   "execution_count": 12,
   "id": "6977d953-85f1-4a4b-bd99-946be6f2486e",
   "metadata": {},
   "outputs": [
    {
     "data": {
      "text/plain": [
       "Counter({'de': 2,\n",
       "         'mots': 2,\n",
       "         'liste': 1,\n",
       "         'longs': 1,\n",
       "         'et': 1,\n",
       "         'moinslongue': 1,\n",
       "         10: 1,\n",
       "         16: 1,\n",
       "         'hgdzhgdhzgdzhgdzhdghz': 1})"
      ]
     },
     "execution_count": 12,
     "metadata": {},
     "output_type": "execute_result"
    }
   ],
   "source": [
    "collections.Counter(liste)"
   ]
  },
  {
   "cell_type": "code",
   "execution_count": null,
   "id": "0e44863d-8d4d-41a2-abdb-e357f168f2f0",
   "metadata": {},
   "outputs": [],
   "source": []
  },
  {
   "cell_type": "code",
   "execution_count": 13,
   "id": "461941cf",
   "metadata": {},
   "outputs": [],
   "source": [
    "import collections\n",
    "\n",
    "vocabulary = collections.Counter()\n",
    "\n",
    "for document in corpus:\n",
    "    vocabulary.update(document.split())"
   ]
  },
  {
   "cell_type": "markdown",
   "id": "5846a276",
   "metadata": {},
   "source": [
    "`Counter` implémente plusieurs méthodes spécialisées pour des comptages pratiques et rapides. Par exemple, la méthode <span class=\"index\">`Counter.most_common`</span> renvoie les *n* éléments les plus fréquents :"
   ]
  },
  {
   "cell_type": "code",
   "execution_count": 19,
   "id": "8ed408a0",
   "metadata": {},
   "outputs": [
    {
     "name": "stdout",
     "output_type": "stream",
     "text": [
      "[('de', 10), ('plus', 4), ('des', 4), ('le', 4), ('par', 4)]\n"
     ]
    }
   ],
   "source": [
    "print(vocabulary.most_common(5))"
   ]
  },
  {
   "cell_type": "code",
   "execution_count": null,
   "id": "be166e33-6c71-4a86-8856-510d19aa2da0",
   "metadata": {},
   "outputs": [],
   "source": []
  },
  {
   "cell_type": "code",
   "execution_count": null,
   "id": "5b3471e7-396b-4f46-87f2-eae4fae43866",
   "metadata": {},
   "outputs": [],
   "source": []
  },
  {
   "cell_type": "code",
   "execution_count": null,
   "id": "3f949682-668e-48b8-90da-5d1fb3989913",
   "metadata": {},
   "outputs": [],
   "source": []
  },
  {
   "cell_type": "markdown",
   "id": "c490f217",
   "metadata": {},
   "source": [
    "Comme on peut le constater, les mots les plus fréquents dans le vocabulaire sont des mots fonctionnels (ou \"<span class=\"index\">mots vides</span>\" comme on les appelle couramment), tels que *le* (déterminant), *et* (conjonction), et *de* (préposition). Les mots situés dans les rangs inférieurs de la liste de fréquence sont généralement des <span class=\"index\">mots de contenu</span> qui ont un sens plus spécifique que les mots fonctionnels. En utilisant l'objet `Counter` construit ci-dessus, il est facile de composer un vocabulaire qui ignore ces hapax :"
   ]
  },
  {
   "cell_type": "code",
   "execution_count": 20,
   "id": "a91256c0",
   "metadata": {},
   "outputs": [
    {
     "name": "stdout",
     "output_type": "stream",
     "text": [
      "Original vocabulary size: 140\n",
      "{'Il', 'de', 'avait', 'la', 'je', 'mon', '!', 'bien', 'n’est', 'tu', 'pour', 'pas', 'des', 'et', 'plus', 'que', 'par', 'le'}\n",
      "Pruned vocabulary size: 18\n"
     ]
    }
   ],
   "source": [
    "print('Original vocabulary size:', len(vocabulary))\n",
    "pruned_vocabulary = {token for token, count in vocabulary.items() if count > 1}\n",
    "print(pruned_vocabulary)\n",
    "print('Pruned vocabulary size:', len(pruned_vocabulary))"
   ]
  },
  {
   "cell_type": "markdown",
   "id": "8c913204",
   "metadata": {},
   "source": [
    "Pour rafraîchir votre mémoire, un ensemble Python <span class=\"index\">`set`</span> est une structure de données bien adaptée pour représenter un vocabulaire. Un ensemble Python, à l'instar de son homologue en mathématiques, est une séquence non ordonnée d'éléments distincts. Comme un ensemble enregistre uniquement des éléments distincts, nous sommes assurés que tous les mots qui y apparaissent sont uniques. De manière similaire, nous pourrions construire un vocabulaire qui exclut les *n* jetons les plus fréquents :"
   ]
  },
  {
   "cell_type": "code",
   "execution_count": 26,
   "id": "fd0b55c5",
   "metadata": {},
   "outputs": [
    {
     "name": "stdout",
     "output_type": "stream",
     "text": [
      "Original vocabulary size: 140\n",
      "Pruned vocabulary size: 110\n"
     ]
    }
   ],
   "source": [
    "n = 30\n",
    "print('Original vocabulary size:', len(vocabulary))\n",
    "pruned_vocabulary = {token for token, _ in vocabulary.most_common()[n:]}\n",
    "print('Pruned vocabulary size:', len(pruned_vocabulary))"
   ]
  },
  {
   "cell_type": "markdown",
   "id": "a5cf3d59",
   "metadata": {},
   "source": [
    "Notez comment la taille du vocabulaire élagué peut effectivement être réduite de manière agressive en utilisant de simples seuils de fréquence. En abstrayant ces deux fonctions concrètes, nous pouvons maintenant implémenter une fonction <span class=\"index\">`extract_vocabulary()`</span>, qui extrait un vocabulaire à partir d'un corpus tokenisé en fonction d'un comptage de fréquence minimum et maximum :"
   ]
  },
  {
   "cell_type": "code",
   "execution_count": 27,
   "id": "9bcd38e6",
   "metadata": {},
   "outputs": [],
   "source": [
    "def extract_vocabulary(tokenized_corpus, min_count=1, max_count=float('inf')):\n",
    "    \"\"\"Extraire un vocabulaire à partir d'un corpus tokenisé.\n",
    "\n",
    "    Arguments:\n",
    "        tokenized_corpus (list): un corpus tokenisé, représenté par une liste\n",
    "            de listes de chaînes.\n",
    "        min_count (int, facultatif): le nombre minimum d'occurrences d'un élément\n",
    "            du vocabulaire dans le corpus.\n",
    "        max_count (int, facultatif): le nombre maximum d'occurrences d'un élément\n",
    "            du vocabulaire dans le corpus. Par défaut, infini.\n",
    "\n",
    "    Renvoie:\n",
    "        list: Une liste ordonnée alphabétiquement de mots uniques dans le\n",
    "            corpus, dont les fréquences respectent le nombre minimum et maximum\n",
    "            spécifié.\n",
    "\n",
    "    Exemples:\n",
    "        >>> corpus = [['the', 'man', 'love', 'man', 'the'],\n",
    "                      ['the', 'love', 'book', 'wise', 'drama'],\n",
    "                      ['a', 'story', 'book', 'drama']]\n",
    "        >>> extract_vocabulary(corpus, min_count=2)\n",
    "        ['book', 'drama', 'love', 'man', 'the']\n",
    "\n",
    "\n",
    "    \"\"\"\n",
    "    vocabulary = collections.Counter()\n",
    "    for document in tokenized_corpus:\n",
    "        vocabulary.update(document)\n",
    "    vocabulary = {word for word, count in vocabulary.items()\n",
    "                  if count >= min_count and count <= max_count}\n",
    "    return sorted(vocabulary)"
   ]
  },
  {
   "cell_type": "markdown",
   "id": "91cb19cb",
   "metadata": {},
   "source": [
    "Notez que le nombre maximum par défaut est défini sur l'infini (`max_count=float('inf')`). Cela garantit que aucun des mots à haute fréquence ne sera filtré sans spécification supplémentaire. La fonction peut être appelée comme suit :"
   ]
  },
  {
   "cell_type": "code",
   "execution_count": 30,
   "id": "49a9227f",
   "metadata": {},
   "outputs": [],
   "source": [
    "tokenized_corpus = [document.split() for document in corpus]\n",
    "vocabulary = extract_vocabulary(tokenized_corpus)"
   ]
  },
  {
   "cell_type": "markdown",
   "id": "5396659b",
   "metadata": {},
   "source": [
    "Une fois que le vocabulaire souhaité a été établi, nous sommes prêts à passer à la deuxième étape de la création d'une matrice terme-document. Rappelons que cette deuxième étape consiste à déterminer combien de fois chaque mot du vocabulaire apparaît dans chaque document. Il existe plusieurs façons de mettre cela en œuvre. Nous en illustrerons deux. Tout d'abord, nous représenterons le modèle d'espace vectoriel sous la forme d'une liste d'objets Counter, un pour chaque document. En utilisant une compréhension de liste, cela peut être facilement mis en œuvre comme suit :"
   ]
  },
  {
   "cell_type": "code",
   "execution_count": 32,
   "id": "66f4476d",
   "metadata": {},
   "outputs": [
    {
     "name": "stdout",
     "output_type": "stream",
     "text": [
      "Counter({'n’est': 2, 'Cette': 1, 'histoire': 1, 'pas': 1, 'fantastique,': 1, 'elle': 1, 'que': 1, 'romanesque.': 1})\n"
     ]
    }
   ],
   "source": [
    "bags_of_words = []\n",
    "for document in tokenized_corpus:\n",
    "    tokens = [word for word in document if word in vocabulary]\n",
    "    bags_of_words.append(collections.Counter(tokens))\n",
    "\n",
    "print(bags_of_words[0])"
   ]
  },
  {
   "cell_type": "code",
   "execution_count": null,
   "id": "36154c4f-f355-4fa6-a937-dd47db138417",
   "metadata": {},
   "outputs": [],
   "source": []
  },
  {
   "cell_type": "code",
   "execution_count": 33,
   "id": "877d3254",
   "metadata": {},
   "outputs": [],
   "source": [
    "def corpus2dtm(tokenized_corpus, vocabulary):\n",
    "    \"\"\"Transformer un corpus tokenisé en une matrice terme-document.\n",
    "\n",
    "    Arguments:\n",
    "        tokenized_corpus (list): un corpus tokenisé sous la forme d'une liste de\n",
    "        listes de chaînes. vocabulary (list): Une liste de mots uniques.\n",
    "\n",
    "    Renvoie:\n",
    "        list: Une liste de listes représentant la fréquence de chaque terme\n",
    "              dans `vocabulary` pour chaque document du corpus.\n",
    "\n",
    "    Exemples:\n",
    "        >>> tokenized_corpus = [['the', 'man', 'man', 'smart'],\n",
    "                                ['a', 'the', 'man' 'love'],\n",
    "                                ['love', 'book', 'journey']]\n",
    "        >>> vocab = ['book', 'journey', 'man', 'love']\n",
    "        >>> corpus2dtm(tokenized_corpus, vocabulary)\n",
    "        [[0, 0, 2, 0], [0, 0, 1, 1], [1, 1, 0, 1]]\n",
    "\n",
    "    \"\"\"\n",
    "    document_term_matrix = []\n",
    "    for document in tokenized_corpus:\n",
    "        document_counts = collections.Counter(document)\n",
    "        row = [document_counts[word] for word in vocabulary]\n",
    "        document_term_matrix.append(row)\n",
    "    return document_term_matrix\n",
    "\n",
    "\n"
   ]
  },
  {
   "cell_type": "code",
   "execution_count": 34,
   "id": "26f5c87e-fd2c-446e-a4bf-2b78dcf43b52",
   "metadata": {},
   "outputs": [],
   "source": [
    "document_term_matrix = corpus2dtm(tokenized_corpus, vocabulary)"
   ]
  },
  {
   "cell_type": "code",
   "execution_count": 36,
   "id": "de7668e7-aea7-46dd-a129-6c9078ebffe8",
   "metadata": {
    "scrolled": true
   },
   "outputs": [
    {
     "data": {
      "text/plain": [
       "7"
      ]
     },
     "execution_count": 36,
     "metadata": {},
     "output_type": "execute_result"
    }
   ],
   "source": [
    "len(document_term_matrix)"
   ]
  },
  {
   "cell_type": "markdown",
   "id": "d52b8199",
   "metadata": {},
   "source": [
    "La variable `document_term_matrix` contient maintenant une représentation tabulaire du corpus. Chaque ligne est associée à un document et chaque colonne est associée à un élément du vocabulaire. Le tableau ci-dessous montre les premières lignes et plusieurs colonnes de cette table."
   ]
  },
  {
   "cell_type": "code",
   "execution_count": 39,
   "id": "1c543099",
   "metadata": {
    "tags": [
     "remove-input"
    ]
   },
   "outputs": [],
   "source": [
    "import pandas as pd\n",
    "df = pd.DataFrame(document_term_matrix, columns=vocabulary)"
   ]
  },
  {
   "cell_type": "code",
   "execution_count": 40,
   "id": "45e53c9f-165d-453e-a930-fa980bcfc6aa",
   "metadata": {},
   "outputs": [
    {
     "data": {
      "text/html": [
       "<div>\n",
       "<style scoped>\n",
       "    .dataframe tbody tr th:only-of-type {\n",
       "        vertical-align: middle;\n",
       "    }\n",
       "\n",
       "    .dataframe tbody tr th {\n",
       "        vertical-align: top;\n",
       "    }\n",
       "\n",
       "    .dataframe thead th {\n",
       "        text-align: right;\n",
       "    }\n",
       "</style>\n",
       "<table border=\"1\" class=\"dataframe\">\n",
       "  <thead>\n",
       "    <tr style=\"text-align: right;\">\n",
       "      <th></th>\n",
       "      <th>!</th>\n",
       "      <th>?</th>\n",
       "      <th>Cette</th>\n",
       "      <th>Et</th>\n",
       "      <th>Franche-Comté.</th>\n",
       "      <th>François,</th>\n",
       "      <th>Il</th>\n",
       "      <th>La</th>\n",
       "      <th>Le</th>\n",
       "      <th>L’étrange</th>\n",
       "      <th>...</th>\n",
       "      <th>vieux</th>\n",
       "      <th>village</th>\n",
       "      <th>ville</th>\n",
       "      <th>voilà</th>\n",
       "      <th>votre</th>\n",
       "      <th>vous</th>\n",
       "      <th>voyage</th>\n",
       "      <th>à</th>\n",
       "      <th>été</th>\n",
       "      <th>–</th>\n",
       "    </tr>\n",
       "  </thead>\n",
       "  <tbody>\n",
       "    <tr>\n",
       "      <th>0</th>\n",
       "      <td>0</td>\n",
       "      <td>0</td>\n",
       "      <td>1</td>\n",
       "      <td>0</td>\n",
       "      <td>0</td>\n",
       "      <td>0</td>\n",
       "      <td>0</td>\n",
       "      <td>0</td>\n",
       "      <td>0</td>\n",
       "      <td>0</td>\n",
       "      <td>...</td>\n",
       "      <td>0</td>\n",
       "      <td>0</td>\n",
       "      <td>0</td>\n",
       "      <td>0</td>\n",
       "      <td>0</td>\n",
       "      <td>0</td>\n",
       "      <td>0</td>\n",
       "      <td>0</td>\n",
       "      <td>0</td>\n",
       "      <td>0</td>\n",
       "    </tr>\n",
       "    <tr>\n",
       "      <th>1</th>\n",
       "      <td>2</td>\n",
       "      <td>0</td>\n",
       "      <td>0</td>\n",
       "      <td>0</td>\n",
       "      <td>0</td>\n",
       "      <td>0</td>\n",
       "      <td>1</td>\n",
       "      <td>0</td>\n",
       "      <td>0</td>\n",
       "      <td>1</td>\n",
       "      <td>...</td>\n",
       "      <td>0</td>\n",
       "      <td>0</td>\n",
       "      <td>0</td>\n",
       "      <td>0</td>\n",
       "      <td>0</td>\n",
       "      <td>0</td>\n",
       "      <td>1</td>\n",
       "      <td>0</td>\n",
       "      <td>0</td>\n",
       "      <td>0</td>\n",
       "    </tr>\n",
       "    <tr>\n",
       "      <th>2</th>\n",
       "      <td>0</td>\n",
       "      <td>0</td>\n",
       "      <td>0</td>\n",
       "      <td>0</td>\n",
       "      <td>0</td>\n",
       "      <td>0</td>\n",
       "      <td>0</td>\n",
       "      <td>0</td>\n",
       "      <td>1</td>\n",
       "      <td>0</td>\n",
       "      <td>...</td>\n",
       "      <td>1</td>\n",
       "      <td>0</td>\n",
       "      <td>0</td>\n",
       "      <td>0</td>\n",
       "      <td>0</td>\n",
       "      <td>0</td>\n",
       "      <td>0</td>\n",
       "      <td>0</td>\n",
       "      <td>1</td>\n",
       "      <td>0</td>\n",
       "    </tr>\n",
       "    <tr>\n",
       "      <th>3</th>\n",
       "      <td>0</td>\n",
       "      <td>0</td>\n",
       "      <td>0</td>\n",
       "      <td>0</td>\n",
       "      <td>1</td>\n",
       "      <td>0</td>\n",
       "      <td>0</td>\n",
       "      <td>1</td>\n",
       "      <td>0</td>\n",
       "      <td>0</td>\n",
       "      <td>...</td>\n",
       "      <td>0</td>\n",
       "      <td>0</td>\n",
       "      <td>1</td>\n",
       "      <td>0</td>\n",
       "      <td>0</td>\n",
       "      <td>0</td>\n",
       "      <td>0</td>\n",
       "      <td>0</td>\n",
       "      <td>0</td>\n",
       "      <td>0</td>\n",
       "    </tr>\n",
       "    <tr>\n",
       "      <th>4</th>\n",
       "      <td>0</td>\n",
       "      <td>0</td>\n",
       "      <td>0</td>\n",
       "      <td>0</td>\n",
       "      <td>0</td>\n",
       "      <td>1</td>\n",
       "      <td>0</td>\n",
       "      <td>0</td>\n",
       "      <td>0</td>\n",
       "      <td>0</td>\n",
       "      <td>...</td>\n",
       "      <td>0</td>\n",
       "      <td>0</td>\n",
       "      <td>0</td>\n",
       "      <td>0</td>\n",
       "      <td>0</td>\n",
       "      <td>0</td>\n",
       "      <td>0</td>\n",
       "      <td>0</td>\n",
       "      <td>0</td>\n",
       "      <td>0</td>\n",
       "    </tr>\n",
       "    <tr>\n",
       "      <th>5</th>\n",
       "      <td>0</td>\n",
       "      <td>0</td>\n",
       "      <td>0</td>\n",
       "      <td>0</td>\n",
       "      <td>0</td>\n",
       "      <td>0</td>\n",
       "      <td>0</td>\n",
       "      <td>0</td>\n",
       "      <td>0</td>\n",
       "      <td>0</td>\n",
       "      <td>...</td>\n",
       "      <td>0</td>\n",
       "      <td>0</td>\n",
       "      <td>0</td>\n",
       "      <td>0</td>\n",
       "      <td>1</td>\n",
       "      <td>1</td>\n",
       "      <td>0</td>\n",
       "      <td>1</td>\n",
       "      <td>0</td>\n",
       "      <td>0</td>\n",
       "    </tr>\n",
       "    <tr>\n",
       "      <th>6</th>\n",
       "      <td>0</td>\n",
       "      <td>1</td>\n",
       "      <td>0</td>\n",
       "      <td>1</td>\n",
       "      <td>0</td>\n",
       "      <td>0</td>\n",
       "      <td>1</td>\n",
       "      <td>0</td>\n",
       "      <td>0</td>\n",
       "      <td>0</td>\n",
       "      <td>...</td>\n",
       "      <td>0</td>\n",
       "      <td>1</td>\n",
       "      <td>0</td>\n",
       "      <td>1</td>\n",
       "      <td>0</td>\n",
       "      <td>0</td>\n",
       "      <td>0</td>\n",
       "      <td>0</td>\n",
       "      <td>0</td>\n",
       "      <td>1</td>\n",
       "    </tr>\n",
       "  </tbody>\n",
       "</table>\n",
       "<p>7 rows × 140 columns</p>\n",
       "</div>"
      ],
      "text/plain": [
       "   !  ?  Cette  Et  Franche-Comté.  François,  Il  La  Le  L’étrange  ...  \\\n",
       "0  0  0      1   0               0          0   0   0   0          0  ...   \n",
       "1  2  0      0   0               0          0   1   0   0          1  ...   \n",
       "2  0  0      0   0               0          0   0   0   1          0  ...   \n",
       "3  0  0      0   0               1          0   0   1   0          0  ...   \n",
       "4  0  0      0   0               0          1   0   0   0          0  ...   \n",
       "5  0  0      0   0               0          0   0   0   0          0  ...   \n",
       "6  0  1      0   1               0          0   1   0   0          0  ...   \n",
       "\n",
       "   vieux  village  ville  voilà  votre  vous  voyage  à  été  –  \n",
       "0      0        0      0      0      0     0       0  0    0  0  \n",
       "1      0        0      0      0      0     0       1  0    0  0  \n",
       "2      1        0      0      0      0     0       0  0    1  0  \n",
       "3      0        0      1      0      0     0       0  0    0  0  \n",
       "4      0        0      0      0      0     0       0  0    0  0  \n",
       "5      0        0      0      0      1     1       0  1    0  0  \n",
       "6      0        1      0      1      0     0       0  0    0  1  \n",
       "\n",
       "[7 rows x 140 columns]"
      ]
     },
     "execution_count": 40,
     "metadata": {},
     "output_type": "execute_result"
    }
   ],
   "source": [
    "df"
   ]
  },
  {
   "cell_type": "code",
   "execution_count": null,
   "id": "e4615ae8-e6c4-4c78-ac24-7999d44ca0de",
   "metadata": {},
   "outputs": [],
   "source": []
  },
  {
   "cell_type": "markdown",
   "id": "b4a6244c",
   "metadata": {},
   "source": [
    "Bien que la liste Python soit un type de données pratique pour la *construction* d'une matrice terme-document, elle est moins utile lorsque l'on souhaite accéder et manipuler la matrice. Dans ce qui suit, nous utiliserons le package Python standard pour le calcul scientifique, <span class=\"index\">NumPy</span>, qui nous permet de stocker et d'analyser les matrices terme-document avec moins de ressources computationnelles et beaucoup moins d'efforts de notre part. Afin de ne pas perturber le fil narratif du chapitre, nous n'introduirons pas ce package en détail ici : les lecteurs moins expérimentés sont renvoyés à l'aperçu introductif à la fin de ce chapitre, qui discute en détail des principales fonctionnalités du package.\n",
    "\n",
    "## Cartographie des Genres\n",
    "\n",
    "#### Chargement du corpus\n"
   ]
  },
  {
   "cell_type": "markdown",
   "id": "89f54832-c20d-4bdc-bfcc-e3486c70a172",
   "metadata": {},
   "source": [
    "![genre du corpus chapitres](./data/genres_corpus.png)"
   ]
  },
  {
   "cell_type": "markdown",
   "id": "47d6858f",
   "metadata": {},
   "source": [
    "#### Explorer the corpus\n",
    "\n",
    "Après avoir chargé les romans en mémoire, nous pouvons transformer la collection en une <span class=\"index\">matrice terme-document</span>. Dans le bloc de code suivant, nous prétraitons d'abord chaque pièce en utilisant la fonction `preprocess_text()` définie précédemment, qui renvoie une liste de jetons de mots en minuscules pour chaque pièce. Ensuite, nous construisons le <span class=\"index\">vocabulaire</span> avec `extract_vocabulary()`, et <span class=\"index\">élaguons</span> tous les mots qui apparaissent moins de deux fois dans la collection. La dernière étape consiste alors à assembler la matrice terme-document en calculant les comptes de jetons pour tous les mots restants dans le vocabulaire pour chaque document de la collection."
   ]
  },
  {
   "cell_type": "code",
   "execution_count": 41,
   "id": "4123196e-1df1-4714-b49b-ecaba50c7f0f",
   "metadata": {},
   "outputs": [],
   "source": [
    "# get a list of str of the corpus\n",
    "from glob import glob\n",
    "path_txt = \"corpus/*.txt\""
   ]
  },
  {
   "cell_type": "code",
   "execution_count": 42,
   "id": "8dbc11e8-df9c-4515-a469-67f1da31aa48",
   "metadata": {
    "scrolled": true
   },
   "outputs": [
    {
     "name": "stdout",
     "output_type": "stream",
     "text": [
      "corpus/1902_Loti-Pierre_Les-derniers-jours-de-Pekin.txt\n",
      "corpus/1906_Gide-Andre_Amyntas.txt\n",
      "corpus/1933_Veuzit-Max-du_Vers-l'unique.txt\n",
      "corpus/1938_Larbaud-Valery_Aux-couleurs-de-Rome.txt\n",
      "corpus/1905_Farrere-Claude_Les-civilises.txt\n",
      "corpus/1955_Delly_Ourida.txt\n",
      "corpus/1904_Le-Rouge-Gustave_L-Esclave-amoureuse.txt\n",
      "corpus/1913_Delly_Entre-deux-ames.txt\n",
      "corpus/1912_Loti-Pierre_Un-pelerin-d-Angkor 2.txt\n",
      "corpus/1908_Veuzit-Max-du_Le-mystere-de-Malbackt.txt\n",
      "corpus/2008_Rolin-Olivier_La-Chambre-des-cartes.txt\n",
      "corpus/1913_Delly_Dans-l'ombre-du-mystere.txt\n",
      "corpus/1913_Dombre-Roger_Un-tuteur-embarrasse.txt\n",
      "corpus/1903_Vogue-Eugene-Melchior-de_Le-Maitre-de-la-mer.txt\n",
      "corpus/1902_Le-Rouge-Gustave_La-Princesse-des-airs_Tome-II.txt\n",
      "corpus/1905_Lermina-Jules_To-Ho-Le-Tueur-d-or.txt\n",
      "corpus/1905_Le-Rouge-Gustave_L-Espionne-du-grand-Lama.txt\n",
      "corpus/1912_Loti-Pierre_Un-pelerin-d-Angkor.txt\n",
      "corpus/1932_Veuzit-Max-du_Petite-comtesse.txt\n",
      "corpus/1900_Verne-Jules-_Seconde-patrie.txt\n",
      "corpus/1905_Verne-Jules_Le-Phare-du-Bout-du-Monde.txt\n",
      "corpus/1931_Veuzit-Max-du_John,-chauffeur-russe.txt\n",
      "corpus/1963_Bouvier-Nicolas_L-usage-du-monde.txt\n",
      "corpus/1916_Delly_La-fin-d'une-Walkyrie.txt\n",
      "corpus/1902_Le-Rouge-Gustave_La-Princesse-des-airs_Tome-I.txt\n",
      "corpus/1905_Verne-Jules_L-invasion-de-la-mer.txt\n",
      "corpus/2012_Kerangal-Maylis-de_Tangente-vers-l-est.txt\n",
      "corpus/1901_Thurner-Georges_Mademoiselle-Flammette.txt\n",
      "corpus/1903_Loti-Pierre_L-Inde-(sans-les-Anglais).txt\n",
      "corpus/1904_Loti-Pierre_Vers-Ispahan.txt\n",
      "corpus/1908_Delly_L'exilee.txt\n",
      "corpus/1911_Gautier-Judith_En-chine-Merveilleuses-histoires.txt\n",
      "corpus/1902_Allais-Alphonse_Le-Captain-Cap.txt\n",
      "corpus/2013_Tesson-Sylvain_Dans-les-forets-de-Siberie.txt\n",
      "corpus/1916_Ardel-Henri_Le-chemin-qui-descend.txt\n",
      "corpus/1917_Delly_La-petite-chanoinesse.txt\n",
      "corpus/1922_Alanic-Mathilde_La-route-ardente.txt\n"
     ]
    }
   ],
   "source": [
    "corpus = []\n",
    "for doc in glob(path_txt):\n",
    "    print(doc)\n",
    "    with open(doc, encoding=\"utf8\") as file_in:\n",
    "        text = file_in.read()\n",
    "        corpus.append(text.replace('\\xa0', ' '))"
   ]
  },
  {
   "cell_type": "code",
   "execution_count": 18,
   "id": "04b9ba88-fda3-4d6b-b616-bb18f01976cc",
   "metadata": {},
   "outputs": [
    {
     "data": {
      "text/plain": [
       "37"
      ]
     },
     "execution_count": 18,
     "metadata": {},
     "output_type": "execute_result"
    }
   ],
   "source": [
    "len(corpus)"
   ]
  },
  {
   "cell_type": "code",
   "execution_count": 46,
   "id": "3e74de40-b2b3-4878-84f4-a6d7b20e9aca",
   "metadata": {},
   "outputs": [
    {
     "data": {
      "text/plain": [
       "37"
      ]
     },
     "execution_count": 46,
     "metadata": {},
     "output_type": "execute_result"
    }
   ],
   "source": [
    "len(corpus)"
   ]
  },
  {
   "cell_type": "code",
   "execution_count": 44,
   "id": "2b859b36",
   "metadata": {
    "scrolled": true
   },
   "outputs": [
    {
     "name": "stdout",
     "output_type": "stream",
     "text": [
      "document-term matrix avec |D| = 37 documents et |V| = 68089 mots.\n"
     ]
    }
   ],
   "source": [
    "roman_tok = [roman.split() for roman in corpus]\n",
    "vocabulary = extract_vocabulary(roman_tok, min_count=2)\n",
    "document_term_matrix = np.array(corpus2dtm(roman_tok, vocabulary))\n",
    "\n",
    "print(f\"document-term matrix avec \"\n",
    "      f\"|D| = {document_term_matrix.shape[0]} documents et \"\n",
    "      f\"|V| = {document_term_matrix.shape[1]} mots.\")"
   ]
  },
  {
   "cell_type": "code",
   "execution_count": 45,
   "id": "e90a81dc-5564-4bbf-a689-9d10a5342371",
   "metadata": {},
   "outputs": [
    {
     "data": {
      "text/plain": [
       "68089"
      ]
     },
     "execution_count": 45,
     "metadata": {},
     "output_type": "execute_result"
    }
   ],
   "source": [
    "len(document_term_matrix[0])"
   ]
  },
  {
   "cell_type": "markdown",
   "id": "82a1c0f6",
   "metadata": {},
   "source": [
    "Nous sommes maintenant prêts à commencer notre analyse : nous avons une représentation efficace en sac de mots d'un corpus sous la forme d'une matrice NumPy (un tableau bidimensionnel) et une liste d'étiquettes qui code de manière non ambiguë le genre pour chaque vecteur de document dans cette table.\n",
    "\n",
    "Commençons par représenter naïvement les documents disponibles, comme si les comptages de fréquence pour deux mots spécifiques dans notre modèle de sac de mots étaient simplement des coordonnées bidimensionnelles sur une carte. "
   ]
  },
  {
   "cell_type": "code",
   "execution_count": 60,
   "id": "f908ccb1",
   "metadata": {},
   "outputs": [],
   "source": [
    "voyage_idx = vocabulary.index('capitale')\n",
    "amour_idx = vocabulary.index('amour')\n",
    "\n",
    "voyage_compte = document_term_matrix[:, voyage_idx]\n",
    "amour_compte = document_term_matrix[:, amour_idx]"
   ]
  },
  {
   "cell_type": "code",
   "execution_count": 61,
   "id": "888f25c5-e2ed-44cf-81ec-c7856056c455",
   "metadata": {},
   "outputs": [
    {
     "data": {
      "text/plain": [
       "array([2, 0, 2, 2, 3, 0, 1, 0, 1, 0, 2, 1, 1, 2, 6, 1, 0, 1, 1, 5, 1, 0,\n",
       "       7, 0, 1, 1, 1, 1, 9, 7, 0, 2, 0, 0, 0, 0, 1])"
      ]
     },
     "execution_count": 61,
     "metadata": {},
     "output_type": "execute_result"
    }
   ],
   "source": [
    "voyage_compte"
   ]
  },
  {
   "cell_type": "markdown",
   "id": "32ca4360",
   "metadata": {},
   "source": [
    "Bien que NumPy soit optimisé pour traiter des données numériques, les listes de chaînes peuvent également être converties en tableaux (<span class=\"index\">arrays</span>). C'est précisément ce que nous ferons également avec notre liste d'étiquettes de genre, afin de faciliter le processus de récupération des emplacements d'étiquettes de genre spécifiques dans la liste plus tard :"
   ]
  },
  {
   "cell_type": "code",
   "execution_count": 62,
   "id": "f7fc3916",
   "metadata": {},
   "outputs": [],
   "source": [
    "genres = np.array(['voyage', 'voyage', 'romance', 'voyage', 'aventure', \"romance\", 'aventure', 'romance', 'voyage', 'romance', 'voyage', 'romance', 'voyage', 'aventure', 'aventure', 'aventure', 'aventure', 'voyage', 'romance', 'aventure', 'aventure', 'romance', 'voyage', 'romance', 'aventure', 'aventure', 'voyage', 'aventure', 'voyage', 'voyage', 'romance', 'voyage', 'aventure', 'voyage', 'romance', 'romance', 'romance'])"
   ]
  },
  {
   "cell_type": "markdown",
   "id": "fd92cc3c",
   "metadata": {},
   "source": [
    "Les vecteurs de colonne, `voyage_compte` et `amour_compte`, ont tous deux la même longueur et comprennent les comptages de fréquence pour chacun de nos deux mots dans chaque document. En utilisant les étiquettes dans la liste correspondante des tags de genre, nous pouvons maintenant représenter chaque document comme un point dans l'espace bidimensionnel défini par les deux vecteurs de comptage. Soyez attentif aux deux premiers arguments passés à la fonction `scatter()` à l'intérieur de la boucle `for` dans laquelle nous itérons sur les trois genres : en utilisant le mécanisme d'« <span class=\"index\">indexation booléenne</span> », nous sélectionnons les comptages de fréquence pour les documents pertinents et nous les représentons comme un groupe à chaque itération. La figure ci-dessous est générée en utilisant le bloc de code suivant :"
   ]
  },
  {
   "cell_type": "code",
   "execution_count": 63,
   "id": "29f7a611-2b60-4c96-803f-daacf8110c4e",
   "metadata": {},
   "outputs": [
    {
     "data": {
      "text/plain": [
       "array([2, 0, 2, 2, 3, 0, 1, 0, 1, 0, 2, 1, 1, 2, 6, 1, 0, 1, 1, 5, 1, 0,\n",
       "       7, 0, 1, 1, 1, 1, 9, 7, 0, 2, 0, 0, 0, 0, 1])"
      ]
     },
     "execution_count": 63,
     "metadata": {},
     "output_type": "execute_result"
    }
   ],
   "source": [
    "voyage_compte"
   ]
  },
  {
   "cell_type": "code",
   "execution_count": 64,
   "id": "115c106f-c014-4e51-9a12-47bad69d7940",
   "metadata": {},
   "outputs": [
    {
     "data": {
      "text/plain": [
       "array([ 0,  0,  9,  3, 11,  1,  1,  2,  0,  2,  0,  6,  0, 20,  0,  1,  0,\n",
       "        0,  1,  1,  0, 13,  0,  9,  1,  0,  0,  0,  2,  0,  5,  0,  1,  6,\n",
       "        4,  6,  1])"
      ]
     },
     "execution_count": 64,
     "metadata": {},
     "output_type": "execute_result"
    }
   ],
   "source": [
    "amour_compte"
   ]
  },
  {
   "cell_type": "code",
   "execution_count": 65,
   "id": "649a74ab-adab-48e0-897f-3dc0ac02e496",
   "metadata": {},
   "outputs": [
    {
     "data": {
      "text/plain": [
       "37"
      ]
     },
     "execution_count": 65,
     "metadata": {},
     "output_type": "execute_result"
    }
   ],
   "source": [
    "len(genres)"
   ]
  },
  {
   "cell_type": "code",
   "execution_count": 66,
   "id": "b2d8b57c",
   "metadata": {},
   "outputs": [
    {
     "data": {
      "image/png": "[encoded data removed]",
      "text/plain": [
       "<Figure size 640x480 with 1 Axes>"
      ]
     },
     "metadata": {},
     "output_type": "display_data"
    }
   ],
   "source": [
    "fig, ax = plt.subplots()\n",
    "\n",
    "for genre in ('romance', 'aventure', 'voyage'):\n",
    "    ax.scatter(voyage_compte[genres == genre],\n",
    "               amour_compte[genres == genre],\n",
    "               label=genre, alpha=0.7)\n",
    "\n",
    "ax.set(xlabel='voyage', ylabel='amour')\n",
    "plt.legend();"
   ]
  },
  {
   "cell_type": "markdown",
   "id": "388dc356",
   "metadata": {},
   "source": [
    "\n",
    "\n",
    "#### Sous-genre et Vecteurs\n",
    "\n",
    "Comment pourrait-on vérifier ces impressions ?"
   ]
  },
  {
   "cell_type": "code",
   "execution_count": null,
   "id": "e8fed71f-f2f1-4acd-8014-9eddaf64c95d",
   "metadata": {},
   "outputs": [],
   "source": []
  },
  {
   "cell_type": "code",
   "execution_count": 67,
   "id": "380d771e",
   "metadata": {},
   "outputs": [],
   "source": [
    "romance_means = document_term_matrix[genres == 'romance'].mean(axis=0)\n",
    "aventures_means = document_term_matrix[genres == 'aventure'].mean(axis=0)\n",
    "voyage_means = document_term_matrix[genres == 'voyage'].mean(axis=0)"
   ]
  },
  {
   "cell_type": "markdown",
   "id": "f7953a38",
   "metadata": {},
   "source": [
    "Les vecteurs moyens résultants contiendront une liste ou un vecteur unidimensionnel pour chaque terme de notre vocabulaire :"
   ]
  },
  {
   "cell_type": "code",
   "execution_count": 68,
   "id": "cfd3916d",
   "metadata": {},
   "outputs": [
    {
     "name": "stdout",
     "output_type": "stream",
     "text": [
      "(68089,)\n"
     ]
    }
   ],
   "source": [
    "print(aventures_means.shape)"
   ]
  },
  {
   "cell_type": "markdown",
   "id": "32783903",
   "metadata": {},
   "source": [
    "We still can use the precomputed indices to retrieve the mean frequency of individual words from these summary vectors:"
   ]
  },
  {
   "cell_type": "code",
   "execution_count": 69,
   "id": "b626d42a",
   "metadata": {},
   "outputs": [
    {
     "name": "stdout",
     "output_type": "stream",
     "text": [
      "Mean absolute frequency of \"voyage\"\n",
      "   in romance: 0.42\n",
      "   in aventures: 1.83\n",
      "   in voyage: 2.69\n"
     ]
    }
   ],
   "source": [
    "print('Mean absolute frequency of \"voyage\"')\n",
    "print(f'   in romance: {romance_means[voyage_idx]:.2f}')\n",
    "print(f'   in aventures: {aventures_means[voyage_idx]:.2f}')\n",
    "print(f'   in voyage: {voyage_means[voyage_idx]:.2f}')"
   ]
  },
  {
   "cell_type": "markdown",
   "id": "a848604e",
   "metadata": {},
   "source": [
    "The mean frequencies for these words are again revealing telling differences across our\n",
    "three genres. This also becomes evident by plotting the mean values in a scatter plot:"
   ]
  },
  {
   "cell_type": "code",
   "execution_count": 70,
   "id": "c8d18424",
   "metadata": {},
   "outputs": [
    {
     "data": {
      "image/png": "[encoded data removed]",
      "text/plain": [
       "<Figure size 640x480 with 1 Axes>"
      ]
     },
     "metadata": {},
     "output_type": "display_data"
    }
   ],
   "source": [
    "fig, ax = plt.subplots()\n",
    "\n",
    "ax.scatter(\n",
    "    romance_means[voyage_idx], romance_means[amour_idx], label='Romance')\n",
    "ax.scatter(\n",
    "    aventures_means[voyage_idx], aventures_means[amour_idx], label='Aventures')\n",
    "ax.scatter(\n",
    "    voyage_means[voyage_idx], voyage_means[amour_idx], label='Voyage')\n",
    "\n",
    "ax.set(xlabel='voyage', ylabel='amour')\n",
    "plt.legend();"
   ]
  },
  {
   "cell_type": "markdown",
   "id": "bc0647a4-5798-4bdf-9480-fef6585c49f1",
   "metadata": {},
   "source": [
    "## Autres Modèles vectoriels - en TAL -> tf-idf, embeddings (DBOW)..\n",
    "le tal c'est aussi du NER, du sentiment analysis, ..."
   ]
  },
  {
   "cell_type": "code",
   "execution_count": null,
   "id": "bf1f486c-2def-45a4-97fd-c53e4d9a47db",
   "metadata": {},
   "outputs": [],
   "source": []
  }
 ],
 "metadata": {
  "jupytext": {
   "cell_metadata_filter": "-all",
   "formats": "md:myst",
   "text_representation": {
    "extension": ".md",
    "format_name": "myst",
    "format_version": 0.13,
    "jupytext_version": "1.10.3"
   }
  },
  "kernelspec": {
   "display_name": "Python (.dev_cours_python)",
   "language": "python",
   "name": ".dev_cours_python"
  },
  "language_info": {
   "codemirror_mode": {
    "name": "ipython",
    "version": 3
   },
   "file_extension": ".py",
   "mimetype": "text/x-python",
   "name": "python",
   "nbconvert_exporter": "python",
   "pygments_lexer": "ipython3",
   "version": "3.12.3"
  },
  "source_map": [
   16,
   20,
   81,
   100,
   127,
   138,
   142,
   145,
   153,
   162,
   168,
   200,
   206,
   219,
   223,
   250,
   254,
   258,
   262,
   268,
   272,
   274,
   278,
   283,
   287,
   292,
   296,
   327,
   331,
   334,
   338,
   345,
   349,
   379,
   385,
   389,
   400,
   405,
   441,
   467,
   472,
   480,
   493,
   501,
   507,
   513,
   519,
   521,
   532,
   542,
   565,
   569,
   573,
   575,
   579,
   584,
   589,
   601,
   610,
   614,
   619,
   644,
   667,
   690,
   694,
   703,
   710,
   779,
   812,
   816,
   822,
   845,
   849,
   858,
   887,
   907,
   911,
   953,
   963,
   972,
   985,
   998,
   1015,
   1040,
   1042,
   1048,
   1051,
   1055,
   1058,
   1064,
   1068,
   1072,
   1080,
   1084,
   1088,
   1101,
   1104,
   1108,
   1111,
   1138,
   1147,
   1208,
   1210,
   1215,
   1217,
   1221,
   1223,
   1227,
   1230,
   1234,
   1237,
   1241,
   1244,
   1248,
   1251,
   1255,
   1258,
   1262,
   1265,
   1271,
   1273,
   1277,
   1279,
   1283,
   1287,
   1289,
   1297,
   1301,
   1303,
   1307,
   1310,
   1317,
   1320,
   1324,
   1326,
   1336,
   1340,
   1346,
   1348,
   1352,
   1354,
   1358,
   1360,
   1364,
   1366,
   1370,
   1372,
   1381,
   1383,
   1387,
   1391,
   1395,
   1397,
   1401,
   1403,
   1407,
   1410,
   1418,
   1421,
   1425,
   1428,
   1432,
   1435,
   1439,
   1442,
   1446,
   1448,
   1452,
   1454,
   1462,
   1465,
   1469,
   1471,
   1475,
   1478,
   1493,
   1495,
   1499,
   1501,
   1505,
   1507,
   1516,
   1520,
   1524,
   1527
  ]
 },
 "nbformat": 4,
 "nbformat_minor": 5
}
